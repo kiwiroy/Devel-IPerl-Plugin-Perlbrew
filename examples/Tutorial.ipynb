{
 "cells": [
  {
   "cell_type": "markdown",
   "metadata": {},
   "source": [
    "## Examples\n",
    "\n",
    "This notebook shows some example usage of the [Perlbrew Plugin](https://metacpan.org/pod/Devel::IPerl::Plugin::Perlbrew).\n",
    "\n",
    "### Installation\n",
    "\n",
    "This plugin needs to be [installed](https://metacpan.org/pod/Devel::IPerl::Plugin::Perlbrew#). Once installed, this notebook can be used to experiment with the functionality."
   ]
  },
  {
   "cell_type": "markdown",
   "metadata": {},
   "source": [
    "## Loading the plugin\n",
    "\n",
    "The plugin cannot be used until it is loaded into the current notebook."
   ]
  },
  {
   "cell_type": "code",
   "execution_count": 3,
   "metadata": {},
   "outputs": [
    {
     "data": {
      "text/plain": [
       "CODE(0x7ff0ea134ac0)"
      ]
     },
     "execution_count": 3,
     "metadata": {},
     "output_type": "execute_result"
    }
   ],
   "source": [
    "## Load the plugin with this guard\n",
    "IPerl->load_plugin('Perlbrew') unless IPerl->can('perlbrew');"
   ]
  },
  {
   "cell_type": "markdown",
   "metadata": {},
   "source": [
    "## Usage\n",
    "\n",
    "There are a number of [helpers]() registered for the plugin. These are available as methods on the `IPerl` class."
   ]
  },
  {
   "cell_type": "markdown",
   "metadata": {},
   "source": [
    "### perlbrew_list\n",
    "\n",
    "The `perlbrew_list` helper displays the installed perls and libraries that are available for use."
   ]
  },
  {
   "cell_type": "code",
   "execution_count": null,
   "metadata": {
    "collapsed": true
   },
   "outputs": [],
   "source": [
    "## Run this cell to list the installed perls and perlbrew'ed libraries\n",
    "IPerl->perlbrew_list();"
   ]
  }
 ],
 "metadata": {
  "kernelspec": {
   "display_name": "IPerl 0.009",
   "language": "perl",
   "name": "iperl"
  },
  "language_info": {
   "file_extension": ".pl",
   "mimetype": "text/x-perl",
   "name": "perl",
   "version": "5.26.0"
  }
 },
 "nbformat": 4,
 "nbformat_minor": 2
}
